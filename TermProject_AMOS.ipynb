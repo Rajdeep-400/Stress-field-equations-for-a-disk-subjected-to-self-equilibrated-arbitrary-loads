{
 "cells": [
  {
   "cell_type": "markdown",
   "id": "add1ce77",
   "metadata": {},
   "source": [
    " \n",
    "<h2 style=\"text-align: center; font-size: 18px; font-family: 'Times New Roman', serif;\">TERM PROJECT \n",
    "<h2 style=\"text-align: center; font-size: 18px;\n",
    "    font-family: 'Times New Roman', serif;\"> GROUP-11\n",
    "<h2 style=\"text-align: center; font-size: 18px;\n",
    "    font-family: 'Times New Roman', serif;\">ADVANCED MECHNICS OF SOLIDS\n",
    "<h3 style=\"text-align: center; font-size: 18px;\n",
    "    font-family: 'Times New Roman', serif;\"> TITLE: STRESS DISTRIBUTION FOR A DISK SUBJECTED TO SELF-EQUILIBRATED ARBITARY LOADS <center>\n"
   ]
  },
  {
   "cell_type": "markdown",
   "id": "a5372f27",
   "metadata": {},
   "source": [
    "#### PREPARED BY: \n",
    "Ankit Kumar Sharma (22ME63R20)\\\n",
    "Navin Pranjal (23ME63R24)\\\n",
    "Rajdeep Chatterjee (23ME63R26)\\\n",
    "Mukesh Kumar (23ME63R40)\n",
    "\n",
    "###### (Group-11)\n"
   ]
  },
  {
   "cell_type": "markdown",
   "id": "41b843e2",
   "metadata": {},
   "source": [
    "#### PROBLEM STATEMENT:\n",
    "Here a disk is considered that is subjected to self-equlibrated loads  having arbitrary magnitudes \n",
    "and directions have been derived by following the approach of Timoshenko. According to this, stress field equations are simplifed  by the superposition of stress components determined using the solution to the problem of a concentrated load acting on a semi-infnite plate (Flamant's solution) and solution to the Lame’s problem.\\\n",
    "\\\n",
    "The proposed equations eliminate a series of involved and avoidable steps to be followed in the existing methods for stress determination, avoid the repeated computations in transforming the stresses from diferent coordinate systems, which makes these new equations computationally \n",
    "more eficient.\n",
    "###### (Plane stress condition prevails)\n",
    "\n"
   ]
  },
  {
   "cell_type": "markdown",
   "id": "9fe7f192",
   "metadata": {},
   "source": [
    "NOTATIONS USED:\\\n",
    "\\\n",
    "$D$ = diameter of the disk\\\n",
    "$r$ = distance between the point of application and an arbitary point on the disk (chord)\\\n",
    "$h$ = thickness of the disk perpendicular to the board (much smaller than other two dimensions)\\\n",
    "$P$ = an arbitary concentrated load \\\n",
    "$\\theta$ = angle between the line joining the point of application and center of the disk and the line of action of the load (in ccw) \\\n",
    "$\\theta_1$, $\\theta_2$ = angles between the line of action of the load and the chords $BA$ and $CA$, respectively\\\n",
    "$\\alpha$ = angle between the radial line $BO$ and positive x-direction\\\n",
    "$\\beta$ = angle between the vertical direction and the line joining the point of application of load and the point $A$\\\n",
    "$\\gamma$ = the angle between the vertical direction and the line joining the point of application and the center of the disk\\\n",
    "$x$, $y$ = positional coordinates (x, y) of $A$\\\n",
    "$\\sigma_{rr}$ = stress Concentrated load acting on a semi‑infnite plate (Flamant’s problem)\\\n",
    "$\\sigma_{hyd}$ =  stress due to radial tension\\\n",
    "$\\sigma_x$, $\\sigma_y$, $\\tau_{xy}$ = components of stresses in the Cartesian coordinate system\\\n",
    "\\\n",
    "(All dimensions are in mm)"
   ]
  },
  {
   "cell_type": "markdown",
   "id": "54bf8d5f",
   "metadata": {},
   "source": [
    "#### STEPS TO BE FOLLOWED:\n",
    "##### 1. Considering Concentrated load acting radially on a semi‑infnite plate (Flamant’s problem)\n",
    "- Evaluting radial stress expression generated on the periphery due to that radial conentration load.\n",
    "\n",
    "##### 2. Approaching Disk subjected to arbitrary non-radial loads (solution given by Timoshenko)\n",
    "-  If ‘n’ number of loads are acting on a disk in static equilibrium, the stresses that need to be applied at the boundary of the disk to obtain the similar stress distribution.\n",
    "\n",
    "##### 3. Stress feld in Cartesian coordinate system for the disk subjected to arbitrary loads\n",
    "- for each load, namely, P1, P2 and P3, the origins of the coordinate systems based on which the stresses are computed vary. This necessitates suitable coordinate transformations before summing the stress components.\n",
    "\n",
    "##### 4. Obtaining The closed-form solution for the stresses acting on a disk subjected to loads of arbitrary magnitudes and directions\n",
    "\n",
    "##### 5. Establish the variation of stress components in polar and Cartesian coordinate system from experimental data\n"
   ]
  },
  {
   "cell_type": "code",
   "execution_count": 1,
   "id": "b9aab3c4",
   "metadata": {},
   "outputs": [],
   "source": [
    "import sympy as sp"
   ]
  },
  {
   "cell_type": "code",
   "execution_count": 2,
   "id": "4877240c",
   "metadata": {},
   "outputs": [],
   "source": [
    "from sympy import Symbol, Sum"
   ]
  },
  {
   "cell_type": "code",
   "execution_count": 3,
   "id": "ef38f19d",
   "metadata": {},
   "outputs": [],
   "source": [
    "from IPython.display import Math, Latex"
   ]
  },
  {
   "cell_type": "code",
   "execution_count": 4,
   "id": "895b43a2",
   "metadata": {},
   "outputs": [],
   "source": [
    "import numpy as np"
   ]
  },
  {
   "cell_type": "code",
   "execution_count": 5,
   "id": "db85b9e7",
   "metadata": {},
   "outputs": [],
   "source": [
    "import matplotlib.pyplot as plt"
   ]
  },
  {
   "cell_type": "markdown",
   "id": "be88f650",
   "metadata": {},
   "source": [
    "#### Step 1: Concentrated load acting on a semi‑infnite plate (Flamant’s problem)"
   ]
  },
  {
   "cell_type": "markdown",
   "id": "1118aaf5",
   "metadata": {},
   "source": [
    "Considering an infinite half-space in $x \\geq 0$, A point load, $P$, acts vertically at the origin.  The force-balance can be expressed as: \\begin{gather}\n",
    " \\int_{-\\pi/2}^{\\pi/2} \\sigma_{rr} \\cos\\theta \\; r {\\rm d} \\theta = - P \\tag{1}\\\n",
    " \\end{gather}\\\n",
    " As we can see the right side is having constant value which is $P$ and left side is integrated with respect to $\\theta$, so $r$ must be eliminated. For that purpose $\\sigma_{rr}$ need to be in the form $\\sigma{rr}$ = $\\frac{h(\\theta)}{r}$.\\\n",
    " Evenually we will be left with $\\sigma_{rr}$ in terms of a generic Airy stress function."
   ]
  },
  {
   "attachments": {
    "Screenshot%20%28297%29.png": {
     "image/png": "[encoded data removed]"
    }
   },
   "cell_type": "markdown",
   "id": "398b02d1",
   "metadata": {},
   "source": [
    "![Screenshot%20%28297%29.png](attachment:Screenshot%20%28297%29.png)\n",
    "Fig-01: Concentrated load acting on a semi-infnite plate\n"
   ]
  },
  {
   "cell_type": "markdown",
   "id": "a5f29929",
   "metadata": {},
   "source": [
    "From the figure we can say $\\theta$ = $\\theta_1$"
   ]
  },
  {
   "cell_type": "code",
   "execution_count": 6,
   "id": "fa3f9a08",
   "metadata": {},
   "outputs": [],
   "source": [
    "D, r, h, theta,theta_B, theta_1, theta_2, alpha, beta, gamma  = sp.symbols('D, r, h, theta, theta_B, theta_1, theta_2, alpha, beta, gamma')"
   ]
  },
  {
   "cell_type": "code",
   "execution_count": 7,
   "id": "650db626",
   "metadata": {},
   "outputs": [],
   "source": [
    "i, n, bc, x, y, x1, y1 = sp.symbols('i, n, bc, x, y, x1, y1')"
   ]
  },
  {
   "cell_type": "markdown",
   "id": "c4c8496d",
   "metadata": {},
   "source": [
    "begining with $x = r \\cos\\theta$ and $y = r\\sin \\theta$. Then, we get \n",
    " \\begin{align}\n",
    " \\frac{\\partial r}{\\partial x} &= \\cos \\theta \\tag{2}\\\\\n",
    " \\frac{\\partial r}{\\partial y} &= \\sin \\theta \\tag{3}\\\\\n",
    " \\frac{\\partial \\theta}{\\partial x} & = - \\frac{\\sin \\theta}{r} \\tag{4} \\\\\n",
    " \\frac{\\partial \\theta}{\\partial y} & = \\frac{\\cos \\theta}{r} \\tag{5} \\\\\n",
    " \\end{align}\n"
   ]
  },
  {
   "cell_type": "code",
   "execution_count": 8,
   "id": "0f50b5bd",
   "metadata": {},
   "outputs": [],
   "source": [
    "delr_delx = sp.cos(theta)\n",
    "\n",
    "delr_dely = sp.sin(theta)\n",
    "\n",
    "deltheta_delx = -sp.sin(theta)/r\n",
    "\n",
    "deltheta_dely = sp.cos(theta)/r"
   ]
  },
  {
   "cell_type": "code",
   "execution_count": 9,
   "id": "83423866",
   "metadata": {},
   "outputs": [],
   "source": [
    "def del_delx(f):\n",
    "    return delr_delx*sp.diff(f,r,1) + deltheta_delx*sp.diff(f,theta,1)\n",
    "\n",
    "def del_dely(f):\n",
    "    return delr_dely*sp.diff(f,r,1) + deltheta_dely*sp.diff(f,theta,1)"
   ]
  },
  {
   "cell_type": "code",
   "execution_count": 10,
   "id": "91dfcf0a",
   "metadata": {},
   "outputs": [],
   "source": [
    "def del2_delx2(f):\n",
    "    return del_delx(del_delx(f))\n",
    "\n",
    "def del2_dely2(f):\n",
    "    return del_dely(del_dely(f))"
   ]
  },
  {
   "cell_type": "code",
   "execution_count": 11,
   "id": "ceb744b0",
   "metadata": {},
   "outputs": [],
   "source": [
    "def polarLaplacian(f):\n",
    "    return (del2_delx2(f)+del2_dely2(f))"
   ]
  },
  {
   "cell_type": "markdown",
   "id": "8b1655e9",
   "metadata": {},
   "source": [
    "Let $\\phi$ be a Airy stress function that is function of $r$ and $\\theta$."
   ]
  },
  {
   "cell_type": "code",
   "execution_count": 12,
   "id": "60f4dcb2",
   "metadata": {},
   "outputs": [],
   "source": [
    "phi = sp.Function('phi')(r,theta)"
   ]
  },
  {
   "cell_type": "code",
   "execution_count": 13,
   "id": "3e372f21",
   "metadata": {},
   "outputs": [
    {
     "data": {
      "text/latex": [
       "$\\displaystyle \\phi{\\left(r,\\theta \\right)}$"
      ],
      "text/plain": [
       "phi(r, theta)"
      ]
     },
     "execution_count": 13,
     "metadata": {},
     "output_type": "execute_result"
    }
   ],
   "source": [
    "phi"
   ]
  },
  {
   "cell_type": "code",
   "execution_count": 14,
   "id": "ad726717",
   "metadata": {},
   "outputs": [],
   "source": [
    "def polarLaplacian(f):\n",
    "    return (del2_delx2(f)+del2_dely2(f)).simplify()"
   ]
  },
  {
   "cell_type": "code",
   "execution_count": 15,
   "id": "7b925c07",
   "metadata": {},
   "outputs": [
    {
     "data": {
      "text/latex": [
       "$\\displaystyle \\frac{\\partial^{2}}{\\partial r^{2}} \\phi{\\left(r,\\theta \\right)} + \\frac{\\frac{\\partial}{\\partial r} \\phi{\\left(r,\\theta \\right)}}{r} + \\frac{\\frac{\\partial^{2}}{\\partial \\theta^{2}} \\phi{\\left(r,\\theta \\right)}}{r^{2}}$"
      ],
      "text/plain": [
       "Derivative(phi(r, theta), (r, 2)) + Derivative(phi(r, theta), r)/r + Derivative(phi(r, theta), (theta, 2))/r**2"
      ]
     },
     "execution_count": 15,
     "metadata": {},
     "output_type": "execute_result"
    }
   ],
   "source": [
    "polarLaplacian(phi)"
   ]
  },
  {
   "cell_type": "code",
   "execution_count": 16,
   "id": "815929f3",
   "metadata": {},
   "outputs": [],
   "source": [
    "def polarbiharmonic(f):\n",
    "    return polarLaplacian(polarLaplacian(f))"
   ]
  },
  {
   "cell_type": "code",
   "execution_count": 17,
   "id": "8be007bc",
   "metadata": {},
   "outputs": [
    {
     "data": {
      "text/latex": [
       "$\\displaystyle \\frac{r^{4} \\frac{\\partial^{4}}{\\partial r^{4}} \\phi{\\left(r,\\theta \\right)} + 2 r^{3} \\frac{\\partial^{3}}{\\partial r^{3}} \\phi{\\left(r,\\theta \\right)} - r^{2} \\frac{\\partial^{2}}{\\partial r^{2}} \\phi{\\left(r,\\theta \\right)} + 2 r^{2} \\frac{\\partial^{4}}{\\partial \\theta^{2}\\partial r^{2}} \\phi{\\left(r,\\theta \\right)} + r \\frac{\\partial}{\\partial r} \\phi{\\left(r,\\theta \\right)} - 2 r \\frac{\\partial^{3}}{\\partial \\theta^{2}\\partial r} \\phi{\\left(r,\\theta \\right)} + 4 \\frac{\\partial^{2}}{\\partial \\theta^{2}} \\phi{\\left(r,\\theta \\right)} + \\frac{\\partial^{4}}{\\partial \\theta^{4}} \\phi{\\left(r,\\theta \\right)}}{r^{4}}$"
      ],
      "text/plain": [
       "(r**4*Derivative(phi(r, theta), (r, 4)) + 2*r**3*Derivative(phi(r, theta), (r, 3)) - r**2*Derivative(phi(r, theta), (r, 2)) + 2*r**2*Derivative(phi(r, theta), (r, 2), (theta, 2)) + r*Derivative(phi(r, theta), r) - 2*r*Derivative(phi(r, theta), r, (theta, 2)) + 4*Derivative(phi(r, theta), (theta, 2)) + Derivative(phi(r, theta), (theta, 4)))/r**4"
      ]
     },
     "execution_count": 17,
     "metadata": {},
     "output_type": "execute_result"
    }
   ],
   "source": [
    "polarbiharmonic(phi)"
   ]
  },
  {
   "cell_type": "markdown",
   "id": "d2c0e2b6",
   "metadata": {},
   "source": [
    "we know the expressions of stresses in cartesian coordinate systen:\\\n",
    "$\\displaystyle \\sigma_{xx} = \\frac{\\partial^2 \\phi}{\\partial y^2}$, $\\displaystyle \\sigma_{yy} = \\frac{\\partial^2 \\phi}{\\partial x^2}$, and $\\displaystyle \\sigma_{xy} = -\\frac{\\partial^2 \\phi}{\\partial x \\partial y}$"
   ]
  },
  {
   "cell_type": "markdown",
   "id": "a54081ba",
   "metadata": {},
   "source": [
    "Transformation expression of stress Matrix:  \\begin{gather}\n",
    " \\bar{\\bar{\\sigma}}_{\\rm pol} = \\bar{\\bar{Q}} \\; \\bar{\\bar{\\sigma}}_{\\rm rect} \\; \\bar{\\bar{Q}}^{\\sf T}\n",
    " \\end{gather}"
   ]
  },
  {
   "cell_type": "markdown",
   "id": "7a41c9d5",
   "metadata": {},
   "source": [
    "where, $\\displaystyle \\bar{\\bar{\\sigma}}_{\\rm rect} = \\begin{bmatrix} \\sigma_{xx} & \\sigma_{xy} \\\\ \\sigma_{xy} & \\sigma_{yy}\\end{bmatrix}$ and $\\displaystyle \\bar{\\bar\\sigma}_{\\rm pol} = \\begin{bmatrix} \\sigma_{rr} & \\sigma_{r\\theta} \\\\ \\sigma_{r\\theta} & \\sigma_{\\theta\\theta}\\end{bmatrix}$ through Rotation Matrix $\\bar{\\bar{Q}} = \\displaystyle \\begin{bmatrix} \\cos \\theta & \\sin \\theta \\\\ -\\sin \\theta & \\cos \\theta \\end{bmatrix}$\n",
    "\n"
   ]
  },
  {
   "cell_type": "code",
   "execution_count": 18,
   "id": "20a86a8e",
   "metadata": {},
   "outputs": [],
   "source": [
    "def sigma_xx(f):\n",
    "    return del2_dely2(f)\n",
    "\n",
    "def sigma_yy(f):\n",
    "    return del2_delx2(f)\n",
    "\n",
    "def sigma_xy(f):\n",
    "    return -del_delx(del_dely(f))"
   ]
  },
  {
   "cell_type": "markdown",
   "id": "1a1e5e1f",
   "metadata": {},
   "source": [
    "Defining Stress matrix ($\\bar{\\bar{\\sigma}}_{\\rm rect}$) in Cartesian coordinates"
   ]
  },
  {
   "cell_type": "code",
   "execution_count": 19,
   "id": "657b63ed",
   "metadata": {},
   "outputs": [],
   "source": [
    "def sigma_rect(f):\n",
    "    return sp.Matrix([[sigma_xx(f), sigma_xy(f)],[sigma_xy(f), sigma_yy(f)]])"
   ]
  },
  {
   "cell_type": "markdown",
   "id": "c8ee97a9",
   "metadata": {},
   "source": [
    "The rotation matrix, $\\bar{\\bar{Q}}$"
   ]
  },
  {
   "cell_type": "code",
   "execution_count": 20,
   "id": "0d5a5c36",
   "metadata": {},
   "outputs": [],
   "source": [
    "Q = sp.Matrix([[sp.cos(theta), sp.sin(theta)],[-sp.sin(theta), sp.cos(theta)]])"
   ]
  },
  {
   "cell_type": "markdown",
   "id": "1e9d777e",
   "metadata": {},
   "source": [
    "Defining Stress matrix ($\\bar{\\bar{\\sigma}}_{\\rm pol}$) in Polar coordinates"
   ]
  },
  {
   "cell_type": "code",
   "execution_count": 21,
   "id": "939b8b94",
   "metadata": {},
   "outputs": [],
   "source": [
    "def sigma_polar(f):\n",
    "    return Q*sigma_rect(f)*(Q.T)"
   ]
  },
  {
   "cell_type": "code",
   "execution_count": 22,
   "id": "afc12087",
   "metadata": {},
   "outputs": [],
   "source": [
    "def sigma_rr(f):\n",
    "    return (sigma_polar(f)[0,0]).simplify().expand()\n",
    "\n",
    "def sigma_tt(f):\n",
    "    return (sigma_polar(f)[1,1]).simplify().expand()\n",
    "\n",
    "def sigma_rt(f):\n",
    "    return (sigma_polar(f)[0,1]).simplify().expand()"
   ]
  },
  {
   "cell_type": "code",
   "execution_count": 23,
   "id": "2e1ad6ea",
   "metadata": {},
   "outputs": [
    {
     "data": {
      "text/latex": [
       "$\\displaystyle \\frac{\\frac{\\partial}{\\partial r} \\phi{\\left(r,\\theta \\right)}}{r} + \\frac{\\frac{\\partial^{2}}{\\partial \\theta^{2}} \\phi{\\left(r,\\theta \\right)}}{r^{2}}$"
      ],
      "text/plain": [
       "Derivative(phi(r, theta), r)/r + Derivative(phi(r, theta), (theta, 2))/r**2"
      ]
     },
     "execution_count": 23,
     "metadata": {},
     "output_type": "execute_result"
    }
   ],
   "source": [
    "sigma_rr(phi)"
   ]
  },
  {
   "cell_type": "code",
   "execution_count": 24,
   "id": "49e2aefb",
   "metadata": {},
   "outputs": [
    {
     "data": {
      "text/latex": [
       "$\\displaystyle \\frac{\\partial^{2}}{\\partial r^{2}} \\phi{\\left(r,\\theta \\right)}$"
      ],
      "text/plain": [
       "Derivative(phi(r, theta), (r, 2))"
      ]
     },
     "execution_count": 24,
     "metadata": {},
     "output_type": "execute_result"
    }
   ],
   "source": [
    "sigma_tt(phi)"
   ]
  },
  {
   "cell_type": "code",
   "execution_count": 25,
   "id": "b9560584",
   "metadata": {},
   "outputs": [
    {
     "data": {
      "text/latex": [
       "$\\displaystyle - \\frac{\\frac{\\partial^{2}}{\\partial \\theta\\partial r} \\phi{\\left(r,\\theta \\right)}}{r} + \\frac{\\frac{\\partial}{\\partial \\theta} \\phi{\\left(r,\\theta \\right)}}{r^{2}}$"
      ],
      "text/plain": [
       "-Derivative(phi(r, theta), r, theta)/r + Derivative(phi(r, theta), theta)/r**2"
      ]
     },
     "execution_count": 25,
     "metadata": {},
     "output_type": "execute_result"
    }
   ],
   "source": [
    "sigma_rt(phi)"
   ]
  },
  {
   "cell_type": "code",
   "execution_count": 26,
   "id": "f98b7b76",
   "metadata": {},
   "outputs": [],
   "source": [
    "def sigma_tr(f):\n",
    "    return (sigma_polar(f)[1,0]).simplify().expand()"
   ]
  },
  {
   "cell_type": "code",
   "execution_count": 27,
   "id": "67967a40",
   "metadata": {},
   "outputs": [
    {
     "data": {
      "text/latex": [
       "$\\displaystyle - \\frac{\\frac{\\partial^{2}}{\\partial \\theta\\partial r} \\phi{\\left(r,\\theta \\right)}}{r} + \\frac{\\frac{\\partial}{\\partial \\theta} \\phi{\\left(r,\\theta \\right)}}{r^{2}}$"
      ],
      "text/plain": [
       "-Derivative(phi(r, theta), r, theta)/r + Derivative(phi(r, theta), theta)/r**2"
      ]
     },
     "execution_count": 27,
     "metadata": {},
     "output_type": "execute_result"
    }
   ],
   "source": [
    "sigma_tr(phi)"
   ]
  },
  {
   "cell_type": "markdown",
   "id": "9e1a0bff",
   "metadata": {},
   "source": [
    "Note: $\\sigma_{tr}(phi)$ is exactly the same as $\\sigma_{rt}(phi)$, beacuse of the symmetricity of the stress tensor."
   ]
  },
  {
   "cell_type": "code",
   "execution_count": 28,
   "id": "2824228a",
   "metadata": {},
   "outputs": [
    {
     "data": {
      "text/latex": [
       "$\\displaystyle \\frac{\\frac{\\partial}{\\partial r} \\phi{\\left(r,\\theta \\right)}}{r} + \\frac{\\frac{\\partial^{2}}{\\partial \\theta^{2}} \\phi{\\left(r,\\theta \\right)}}{r^{2}}$"
      ],
      "text/plain": [
       "Derivative(phi(r, theta), r)/r + Derivative(phi(r, theta), (theta, 2))/r**2"
      ]
     },
     "execution_count": 28,
     "metadata": {},
     "output_type": "execute_result"
    }
   ],
   "source": [
    "phi = sp.Function('phi')(r,theta)\n",
    "sigma_rr(phi)"
   ]
  },
  {
   "cell_type": "code",
   "execution_count": 29,
   "id": "a698f3bb",
   "metadata": {},
   "outputs": [],
   "source": [
    "g = sp.Function('g')(theta)\n",
    "phi = r*g"
   ]
  },
  {
   "cell_type": "markdown",
   "id": "c50883d0",
   "metadata": {},
   "source": [
    "From above we can deduce: $\\phi = r g(\\theta)$"
   ]
  },
  {
   "cell_type": "markdown",
   "id": "56a03b1a",
   "metadata": {},
   "source": [
    "So, the polar biharmonic equation can be of the form:"
   ]
  },
  {
   "cell_type": "code",
   "execution_count": 30,
   "id": "a36ce376",
   "metadata": {},
   "outputs": [
    {
     "data": {
      "text/latex": [
       "$\\displaystyle \\frac{g{\\left(\\theta \\right)} + 2 \\frac{d^{2}}{d \\theta^{2}} g{\\left(\\theta \\right)} + \\frac{d^{4}}{d \\theta^{4}} g{\\left(\\theta \\right)}}{r^{3}}$"
      ],
      "text/plain": [
       "(g(theta) + 2*Derivative(g(theta), (theta, 2)) + Derivative(g(theta), (theta, 4)))/r**3"
      ]
     },
     "execution_count": 30,
     "metadata": {},
     "output_type": "execute_result"
    }
   ],
   "source": [
    "polarbiharmonic(phi)"
   ]
  },
  {
   "cell_type": "markdown",
   "id": "67a90004",
   "metadata": {},
   "source": [
    "Rewritting $g(\\theta)$ in a  different form given as:"
   ]
  },
  {
   "cell_type": "code",
   "execution_count": 31,
   "id": "41010d52",
   "metadata": {},
   "outputs": [
    {
     "data": {
      "text/latex": [
       "$\\displaystyle g{\\left(\\theta \\right)} = \\left(C_{1} + C_{2} \\theta\\right) e^{- i \\theta} + \\left(C_{3} + C_{4} \\theta\\right) e^{i \\theta}$"
      ],
      "text/plain": [
       "Eq(g(theta), (C1 + C2*theta)*exp(-I*theta) + (C3 + C4*theta)*exp(I*theta))"
      ]
     },
     "execution_count": 31,
     "metadata": {},
     "output_type": "execute_result"
    }
   ],
   "source": [
    "sp.dsolve(polarbiharmonic(phi),g)"
   ]
  },
  {
   "cell_type": "code",
   "execution_count": 32,
   "id": "68a5dfb5",
   "metadata": {},
   "outputs": [
    {
     "data": {
      "text/latex": [
       "$\\displaystyle g(\\theta) = A \\cos{\\left(\\theta \\right)} + B \\theta \\cos{\\left(\\theta \\right)} + C \\sin{\\left(\\theta \\right)} + D \\theta \\sin{\\left(\\theta \\right)}$"
      ],
      "text/plain": [
       "<IPython.core.display.Math object>"
      ]
     },
     "metadata": {},
     "output_type": "display_data"
    }
   ],
   "source": [
    "A, B, C, D = sp.symbols('A, B, C, D')\n",
    "gnew = A*sp.cos(theta) + B*theta*sp.cos(theta) + C*sp.sin(theta) + D*theta*sp.sin(theta)\n",
    "display(Math(r'g(\\theta) = {}'.format(sp.latex(gnew))))"
   ]
  },
  {
   "cell_type": "markdown",
   "id": "766685d3",
   "metadata": {},
   "source": [
    "Finding the expressions of $\\sigma_{rr}$, $\\sigma_{\\theta\\theta}$, and $\\sigma_{r\\theta}$."
   ]
  },
  {
   "cell_type": "code",
   "execution_count": 33,
   "id": "9c8c23a8",
   "metadata": {},
   "outputs": [
    {
     "data": {
      "text/latex": [
       "$\\displaystyle \\sigma_{rr} = - \\frac{2 B \\sin{\\left(\\theta \\right)}}{r} + \\frac{2 D \\cos{\\left(\\theta \\right)}}{r}$"
      ],
      "text/plain": [
       "<IPython.core.display.Math object>"
      ]
     },
     "metadata": {},
     "output_type": "display_data"
    },
    {
     "data": {
      "text/latex": [
       "$\\displaystyle \\sigma_{\\theta\\theta} = 0$"
      ],
      "text/plain": [
       "<IPython.core.display.Math object>"
      ]
     },
     "metadata": {},
     "output_type": "display_data"
    },
    {
     "data": {
      "text/latex": [
       "$\\displaystyle \\sigma_{r\\theta} = 0$"
      ],
      "text/plain": [
       "<IPython.core.display.Math object>"
      ]
     },
     "metadata": {},
     "output_type": "display_data"
    }
   ],
   "source": [
    "phi = r*gnew\n",
    "sigmarr = sigma_rr(phi)\n",
    "display(Math(r'\\sigma_{{rr}} = {}'.format(sp.latex(sigmarr))))\n",
    "\n",
    "sigmatt = sigma_tt(phi)\n",
    "display(Math(r'\\sigma_{{\\theta\\theta}} = {}'.format(sp.latex(sigmatt))))\n",
    "\n",
    "sigmart = sigma_rt(phi)\n",
    "display(Math(r'\\sigma_{{r\\theta}} = {}'.format(sp.latex(sigmart))))"
   ]
  },
  {
   "cell_type": "markdown",
   "id": "56b39b0f",
   "metadata": {},
   "source": [
    "we found that $h(\\theta) = -2B\\sin\\theta + 2D\\cos\\theta$. But $h(\\theta)$ must be symmetric in $\\theta$ about $\\theta=0$. Therefore, it gives rise of $B=0$."
   ]
  },
  {
   "cell_type": "markdown",
   "id": "6abe24d0",
   "metadata": {},
   "source": [
    "Thus the expression of $\\sigma_{rr}$ becomes:"
   ]
  },
  {
   "cell_type": "code",
   "execution_count": 34,
   "id": "6eabfd96",
   "metadata": {},
   "outputs": [
    {
     "data": {
      "text/latex": [
       "$\\displaystyle \\sigma_{rr} = \\frac{2 D \\cos{\\left(\\theta \\right)}}{r}$"
      ],
      "text/plain": [
       "<IPython.core.display.Math object>"
      ]
     },
     "metadata": {},
     "output_type": "display_data"
    }
   ],
   "source": [
    "sigmarr = sigmarr.subs(B,0)\n",
    "display(Math(r'\\sigma_{{rr}} = {}'.format(sp.latex(sigmarr))))"
   ]
  },
  {
   "cell_type": "code",
   "execution_count": 35,
   "id": "3c097209",
   "metadata": {},
   "outputs": [
    {
     "data": {
      "text/latex": [
       "$\\displaystyle \\pi D h = - P$"
      ],
      "text/plain": [
       "Eq(pi*D*h, -P)"
      ]
     },
     "metadata": {},
     "output_type": "display_data"
    }
   ],
   "source": [
    "P = sp.symbols('P')\n",
    "lhs = sp.integrate(r*sigmarr*sp.cos(theta)*h,(theta,-sp.pi/2,sp.pi/2))\n",
    "rhs = -P\n",
    "eq = sp.Eq(lhs,rhs)\n",
    "display(eq)"
   ]
  },
  {
   "cell_type": "code",
   "execution_count": 36,
   "id": "36ce3d2e",
   "metadata": {},
   "outputs": [
    {
     "data": {
      "text/latex": [
       "$\\displaystyle D = - \\frac{P}{\\pi h}$"
      ],
      "text/plain": [
       "<IPython.core.display.Math object>"
      ]
     },
     "metadata": {},
     "output_type": "display_data"
    }
   ],
   "source": [
    "Dsoln = -P/(h*sp.pi)\n",
    "display(Math(r'D = {}'.format(sp.latex(Dsoln))))"
   ]
  },
  {
   "cell_type": "markdown",
   "id": "77aba89e",
   "metadata": {},
   "source": [
    "Thus the final expression of $\\sigma_{rr}$ as given below."
   ]
  },
  {
   "cell_type": "code",
   "execution_count": 37,
   "id": "c1bbefcc",
   "metadata": {},
   "outputs": [
    {
     "data": {
      "text/latex": [
       "$\\displaystyle \\sigma_{rr}^{\\rm soln} = - \\frac{2 P \\cos{\\left(\\theta \\right)}}{\\pi h r}$"
      ],
      "text/plain": [
       "<IPython.core.display.Math object>"
      ]
     },
     "metadata": {},
     "output_type": "display_data"
    }
   ],
   "source": [
    "sigmarr_soln = sigmarr.subs(D,Dsoln)\n",
    "display(Math(r'\\sigma_{{rr}}^{{\\rm soln}} = {}'.format(sp.latex(sigmarr_soln))))"
   ]
  },
  {
   "cell_type": "markdown",
   "id": "0aed69dd",
   "metadata": {},
   "source": [
    "\n",
    "$\\sigma_{\\theta \\theta}$, $\\tau_{r \\theta} = 0$"
   ]
  },
  {
   "cell_type": "markdown",
   "id": "dd574ccb",
   "metadata": {},
   "source": [
    "To avoid confusion with the existing notations used in the analytical solution, we better replace $\\theta$ with $\\theta_B$.\n",
    "(This doesn't hold any other meaning)"
   ]
  },
  {
   "cell_type": "code",
   "execution_count": 38,
   "id": "e479033d",
   "metadata": {},
   "outputs": [
    {
     "data": {
      "text/latex": [
       "$\\displaystyle \\sigma_{rr}^{\\rm soln} = - \\frac{2 P \\cos{\\left(\\theta_{B} \\right)}}{\\pi h r}$"
      ],
      "text/plain": [
       "<IPython.core.display.Math object>"
      ]
     },
     "metadata": {},
     "output_type": "display_data"
    }
   ],
   "source": [
    "sigmarr_soln = sigmarr_soln.subs(theta,theta_B)\n",
    "display(Math(r'\\sigma_{{rr}}^{{\\rm soln}} = {}'.format(sp.latex(sigmarr_soln))))"
   ]
  },
  {
   "cell_type": "markdown",
   "id": "c1a4a63b",
   "metadata": {},
   "source": [
    "#### Step 2: Disk subjected to arbitrary loads (solution given by Timoshenko)"
   ]
  },
  {
   "attachments": {
    "image.png": {
     "image/png": "[encoded data removed]"
    }
   },
   "cell_type": "markdown",
   "id": "370f8a14",
   "metadata": {},
   "source": [
    "![image.png](attachment:image.png)\n",
    "Fig-02: Arbitrary concentrated load acting on a disk"
   ]
  },
  {
   "cell_type": "markdown",
   "id": "c007ec4d",
   "metadata": {},
   "source": [
    " Let the radial stress acting along the direction of chord $BA$ is $\\sigma_r$, then, the normal and tangential stresses acting on the boundary of the disk at point $A$ with respect to a polar coordinate system with point $O$ as the origin can be expressed as:"
   ]
  },
  {
   "cell_type": "markdown",
   "id": "6f97b0cd",
   "metadata": {},
   "source": [
    "$\\sigma_{r_0}$ = $\\sigma_r$ *$\\sin^2(\\theta_2)$\n",
    "\n",
    "$\\tau_{r\\theta_0}$ = -$\\sigma_r$ *$\\sin(\\theta_2)$*$\\cos(\\theta_2)$\n"
   ]
  },
  {
   "cell_type": "code",
   "execution_count": 39,
   "id": "54e30531",
   "metadata": {},
   "outputs": [],
   "source": [
    "sigmar_0 = sigmarr*sp.sin(theta_2)**2\n",
    "taurt_0 = -sigmarr*sp.sin(theta_2)*sp.cos(theta_2)"
   ]
  },
  {
   "cell_type": "markdown",
   "id": "e72cd173",
   "metadata": {},
   "source": [
    "Substituting the value of $\\sigma_r$ from the Flamant’s solution;"
   ]
  },
  {
   "cell_type": "code",
   "execution_count": 40,
   "id": "0fc7d28e",
   "metadata": {},
   "outputs": [
    {
     "data": {
      "text/latex": [
       "$\\displaystyle \\sigma_{r_0} = - \\frac{2 P \\sin^{2}{\\left(\\theta_{2} \\right)} \\cos{\\left(\\theta_{B} \\right)}}{\\pi h r}$"
      ],
      "text/plain": [
       "<IPython.core.display.Math object>"
      ]
     },
     "metadata": {},
     "output_type": "display_data"
    },
    {
     "data": {
      "text/latex": [
       "$\\displaystyle \\tau_{r\\theta_0} = \\frac{2 P \\sin{\\left(\\theta_{2} \\right)} \\cos{\\left(\\theta_{2} \\right)} \\cos{\\left(\\theta_{B} \\right)}}{\\pi h r}$"
      ],
      "text/plain": [
       "<IPython.core.display.Math object>"
      ]
     },
     "metadata": {},
     "output_type": "display_data"
    }
   ],
   "source": [
    "sigmar_0 = sigmar_0.subs(sigmarr,sigmarr_soln)\n",
    "taurt_0 = taurt_0.subs(sigmarr,sigmarr_soln)\n",
    "display(Math(r'\\sigma_{{r_0}} = {}'.format(sp.latex(sigmar_0))))\n",
    "display(Math(r'\\tau_{{r\\theta_0}} = {}'.format(sp.latex(taurt_0))))"
   ]
  },
  {
   "cell_type": "markdown",
   "id": "b7cc3bcd",
   "metadata": {},
   "source": [
    "In Timoshenko's solution $\\theta_1$ is representing $\\theta_B$ as per the Flamant's solution.\\\n",
    "i.e. $\\theta_B$ = $\\theta_1$ \n",
    "\n",
    "Therefore substituting $\\theta_1$ in the expression of radial stress expression;\n",
    "\n"
   ]
  },
  {
   "cell_type": "code",
   "execution_count": 41,
   "id": "cfb42850",
   "metadata": {
    "scrolled": true
   },
   "outputs": [
    {
     "data": {
      "text/latex": [
       "$\\displaystyle - \\frac{2 P \\sin^{2}{\\left(\\theta_{2} \\right)} \\cos{\\left(\\theta_{1} \\right)}}{\\pi h r}$"
      ],
      "text/plain": [
       "-2*P*sin(theta_2)**2*cos(theta_1)/(pi*h*r)"
      ]
     },
     "metadata": {},
     "output_type": "display_data"
    },
    {
     "data": {
      "text/latex": [
       "$\\displaystyle \\frac{2 P \\sin{\\left(\\theta_{2} \\right)} \\cos{\\left(\\theta_{1} \\right)} \\cos{\\left(\\theta_{2} \\right)}}{\\pi h r}$"
      ],
      "text/plain": [
       "2*P*sin(theta_2)*cos(theta_1)*cos(theta_2)/(pi*h*r)"
      ]
     },
     "metadata": {},
     "output_type": "display_data"
    }
   ],
   "source": [
    "sigmar_0 = sigmar_0.subs(theta_B, theta_1)\n",
    "taurt_0 = taurt_0.subs(theta_B, theta_1)\n",
    "display(sigmar_0, taurt_0 )"
   ]
  },
  {
   "cell_type": "markdown",
   "id": "56831388",
   "metadata": {},
   "source": [
    "Further substituting $r$ = $D$*$\\sin(\\theta_2)$ in above equations;"
   ]
  },
  {
   "cell_type": "code",
   "execution_count": 42,
   "id": "eb7490ad",
   "metadata": {},
   "outputs": [
    {
     "data": {
      "text/latex": [
       "$\\displaystyle \\sigma_{r_0} = - \\frac{2 P \\sin{\\left(\\theta_{2} \\right)} \\cos{\\left(\\theta_{1} \\right)}}{\\pi D h}$"
      ],
      "text/plain": [
       "<IPython.core.display.Math object>"
      ]
     },
     "metadata": {},
     "output_type": "display_data"
    },
    {
     "data": {
      "text/latex": [
       "$\\displaystyle \\tau_{r\\theta_0} = \\frac{2 P \\cos{\\left(\\theta_{1} \\right)} \\cos{\\left(\\theta_{2} \\right)}}{\\pi D h}$"
      ],
      "text/plain": [
       "<IPython.core.display.Math object>"
      ]
     },
     "metadata": {},
     "output_type": "display_data"
    }
   ],
   "source": [
    "sigmar_0 = sigmar_0.subs(r, D*sp.sin(theta_2)).simplify()\n",
    "taurt_0 = taurt_0.subs(r, D*sp.sin(theta_2)).simplify()\n",
    "display(Math(r'\\sigma_{{r_0}} = {}'.format(sp.latex(sigmar_0))))\n",
    "display(Math(r'\\tau_{{r\\theta_0}} = {}'.format(sp.latex(taurt_0))))"
   ]
  },
  {
   "cell_type": "markdown",
   "id": "f00fb294",
   "metadata": {},
   "source": [
    "After simplification these terms can also be represented as follows:\n",
    "\n",
    "$\\sigma_{r_0}$ = $-\\frac{p}{\\pi*h*D}$*$\\sin(\\theta_1+\\theta_2)$ + $\\frac{p}{\\pi*h*D}$*$\\sin(\\theta_1-\\theta_2)$\n",
    "\n",
    "$\\tau_{r\\theta_0}$ = $\\frac{p}{\\pi*h*D}$*$\\cos(\\theta_1+\\theta_2)$ + $\\frac{p}{\\pi*h*D}$*$\\cos(\\theta_1-\\theta_2)$"
   ]
  },
  {
   "cell_type": "markdown",
   "id": "01d03a4d",
   "metadata": {},
   "source": [
    "The stresses in above equations can be considered as a superposition of three stresses viz.,\n",
    "\n",
    "(i) radial stress of magnitude $-\\frac{p}{\\pi*h*D}$*$\\sin(\\theta_1+\\theta_2)$  distributed uniformly on the boundary of the disk,\n",
    "\n",
    "(ii) tangential stress of magnitude $\\frac{p}{\\pi*h*D}$*$\\cos(\\theta_1+\\theta_2)$ distributed uniformly on the boundary of the disk, and\n",
    "\n",
    "(iii) stress with normal and tangential components as $\\frac{p}{\\pi*h*D}$*$\\sin(\\theta_1-\\theta_2)$ and     $\\frac{p}{\\pi*h*D}$*$\\cos(\\theta_1-\\theta_2)$ respectively.\n",
    "\n",
    "\n",
    "The angle between the line $MM’$ (parallel to the line of \n",
    "action of force $P$) and tangent $TT’$ is $\\theta_1$ –$\\theta_2$ (Fig. 2), which implies that $\\frac{p}{\\pi*h*D}$*$\\sin(\\theta_1-\\theta_2)$ and $\\frac{p}{\\pi*h*D}$*$\\cos(\\theta_1-\\theta_2)$ are the components of stress with magnitude $\\frac{p}{\\pi*h*D}$ acting in a direction opposite to force P at point A.\n",
    "\n"
   ]
  },
  {
   "cell_type": "markdown",
   "id": "e62b985d",
   "metadata": {},
   "source": [
    "from Geometry we have: $\\theta_1$+$\\theta_2 = \\frac{\\pi}{2}-\\theta$"
   ]
  },
  {
   "cell_type": "markdown",
   "id": "3ef55ffa",
   "metadata": {},
   "source": [
    "(i) Normal stress $\\sum_{i=m}^{n}$$-\\frac{p_i}{\\pi*h*D}$*$\\sin(\\theta_1+\\theta_2)_i$ = $\\sum_{i=m}^{n}$$-\\frac{p_i}{\\pi*h*D}$*$\\cos(\\theta)_i$ distributed uniformly on the boundary of the disk."
   ]
  },
  {
   "cell_type": "markdown",
   "id": "4ad517c8",
   "metadata": {},
   "source": [
    "Tangential stress of magnitude $\\sum_{i=m}^{n}$$\\frac{p_i}{\\pi*h*D}$*$\\cos(\\theta_1+\\theta_2)_i$ distributed uniformly on the boundary of the disk. "
   ]
  },
  {
   "cell_type": "code",
   "execution_count": 43,
   "id": "24fc7269",
   "metadata": {},
   "outputs": [],
   "source": [
    "P_i, theta_i = sp.symbols('P_i, theta_i') "
   ]
  },
  {
   "cell_type": "markdown",
   "id": "3af9a523",
   "metadata": {},
   "source": [
    "for $\\displaystyle i^{th}$ load; "
   ]
  },
  {
   "cell_type": "code",
   "execution_count": 44,
   "id": "783cbff0",
   "metadata": {},
   "outputs": [
    {
     "data": {
      "text/latex": [
       "$\\displaystyle \\sigma_t = \\frac{P_{i} \\cos{\\left(\\theta_{i} \\right)}}{\\pi D h}$"
      ],
      "text/plain": [
       "<IPython.core.display.Math object>"
      ]
     },
     "metadata": {},
     "output_type": "display_data"
    }
   ],
   "source": [
    "sigma_t = P_i/(sp.pi*h*D)*sp.cos(theta_i)\n",
    "display(Math(r'\\sigma_t = {}'.format(sp.latex(sigma_t))))"
   ]
  },
  {
   "cell_type": "code",
   "execution_count": 45,
   "id": "2e080485",
   "metadata": {},
   "outputs": [
    {
     "data": {
      "text/latex": [
       "$\\displaystyle \\frac{D P_{i} \\cos{\\left(\\theta_{i} \\right)}}{2}$"
      ],
      "text/plain": [
       "D*P_i*cos(theta_i)/2"
      ]
     },
     "metadata": {},
     "output_type": "display_data"
    }
   ],
   "source": [
    "Torque_ith = sigma_t*(sp.pi*D*h)*D/2\n",
    "display(Torque_ith)"
   ]
  },
  {
   "cell_type": "markdown",
   "id": "420e9248",
   "metadata": {},
   "source": [
    "By invoking the torque balance equation for the disk, the \n",
    "summation of the torques wrt the center\n",
    "must be zero, i.e., $\\sum_{i=1}^{n}$$\\frac{p_i}{2}$*$\\cos(\\theta_1+\\theta_2)_i$*$D = 0$."
   ]
  },
  {
   "cell_type": "markdown",
   "id": "2ac69526",
   "metadata": {},
   "source": [
    "Summation of the stresses obtained from the vector sum \n",
    "of $\\frac{p}{\\pi*h*D}$*$\\sin(\\theta_1-\\theta_2)$ and     $\\frac{p}{\\pi*h*D}$*$\\cos(\\theta_1-\\theta_2)$ which would be zero by invoking the force balance equations for the disk."
   ]
  },
  {
   "cell_type": "markdown",
   "id": "72ea54f2",
   "metadata": {},
   "source": [
    "So the only remaining stress is the radial compressive stress  of magnitude $\\sum_{i=m}^{n}$$-\\frac{p_i}{\\pi*h*D}$*$\\cos(\\theta)_i$.\n",
    "Now Since the boundary of the disk is stress-free except at the points of application of loads, the effect of this term should be nullifed. This can be achieved by applying a uniform radial tension of the same magnitude on the boundary of the disk.\n"
   ]
  },
  {
   "attachments": {
    "Screenshot%20%28295%29.png": {
     "image/png": "[encoded data removed]"
    }
   },
   "cell_type": "markdown",
   "id": "acd6b7a1",
   "metadata": {},
   "source": [
    "![Screenshot%20%28295%29.png](attachment:Screenshot%20%28295%29.png)\n",
    "Fig-03: Demonstration of Timoshenko’s solution for the problem of a disk subjected to three radial loads\n"
   ]
  },
  {
   "cell_type": "markdown",
   "id": "ffa9612b",
   "metadata": {},
   "source": [
    "#### Step 3: Stress feld in Cartesian coordinate system for the disk subjected to arbitrary loads"
   ]
  },
  {
   "attachments": {
    "Screenshot%20%28298%29.png": {
     "image/png": "[encoded data removed]"
    }
   },
   "cell_type": "markdown",
   "id": "5413ca6f",
   "metadata": {},
   "source": [
    "![Screenshot%20%28298%29.png](attachment:Screenshot%20%28298%29.png)\n",
    "Fig-04: Defnition of angles β and γ\n"
   ]
  },
  {
   "cell_type": "markdown",
   "id": "e6c64b55",
   "metadata": {},
   "source": [
    "Again coming back to the previous notation used in Flamant's solution i.e. $\\theta_B$, the angle between the line of action of the load and the line joining the point of application of load and point A."
   ]
  },
  {
   "cell_type": "markdown",
   "id": "b2aba45e",
   "metadata": {},
   "source": [
    "Recalling again the final expression of $\\sigma_{{rr}}^{{\\rm soln}}$"
   ]
  },
  {
   "cell_type": "code",
   "execution_count": 46,
   "id": "50344dbb",
   "metadata": {},
   "outputs": [
    {
     "data": {
      "text/latex": [
       "$\\displaystyle \\sigma_{rr}^{\\rm soln} = - \\frac{2 P \\cos{\\left(\\theta_{B} \\right)}}{\\pi h r}$"
      ],
      "text/plain": [
       "<IPython.core.display.Math object>"
      ]
     },
     "metadata": {},
     "output_type": "display_data"
    }
   ],
   "source": [
    "sigmarr_soln = sigmarr_soln.subs(theta, theta_B)\n",
    "display(Math(r'\\sigma_{{rr}}^{{\\rm soln}} = {}'.format(sp.latex(sigmarr_soln))))"
   ]
  },
  {
   "cell_type": "markdown",
   "id": "3cc5dd33",
   "metadata": {},
   "source": [
    "From geometry: $\\theta_B$ = $\\beta$+$\\gamma$-$\\theta$"
   ]
  },
  {
   "cell_type": "markdown",
   "id": "14f6f158",
   "metadata": {},
   "source": [
    "Point A with positional coordinates (x, y) is at a distance r from the point of application of load."
   ]
  },
  {
   "cell_type": "markdown",
   "id": "b8d3242d",
   "metadata": {},
   "source": [
    "From geometry:\\\n",
    "$\\sin(\\beta)$ = $\\frac{x-(D/2)*\\cos(\\alpha)}{r}$,\n",
    "\n",
    "$\\cos(\\beta)$ = $\\frac{(D/2)*\\sin(\\alpha)-y}{r}$\n",
    "\n",
    "$\\sin(\\gamma)$ = $\\cos(\\alpha)$,  $\\cos(\\gamma)$ = $\\sin(\\alpha)$\n",
    "\n",
    "$\\cos(\\beta+\\alpha)$ = $\\frac{(D/2)-(x*\\cos(\\alpha)+y*\\sin(\\alpha))}{r}$,  $\\sin(\\beta+\\alpha)$ = $\\frac{x*\\sin(\\alpha)-y*\\cos(\\alpha)}{r}$\n",
    "\n",
    "$\\cos(\\theta_B)$ = $\\frac{((D/2)-(x*\\cos(\\alpha)+y*\\sin(\\alpha)))*\\cos(\\theta)+(x*\\sin(\\alpha)+y*\\cos(\\alpha))*sin(\\theta)}{r}$"
   ]
  },
  {
   "cell_type": "code",
   "execution_count": 47,
   "id": "c8b051ab",
   "metadata": {},
   "outputs": [
    {
     "data": {
      "text/latex": [
       "$\\displaystyle \\sin{\\left(\\beta \\right)} = \\frac{- \\frac{D \\cos{\\left(\\alpha \\right)}}{2} + x}{r}$"
      ],
      "text/plain": [
       "Eq(sin(beta), (-D*cos(alpha)/2 + x)/r)"
      ]
     },
     "metadata": {},
     "output_type": "display_data"
    },
    {
     "data": {
      "text/latex": [
       "$\\displaystyle \\cos{\\left(\\beta \\right)} = \\frac{\\frac{D \\sin{\\left(\\alpha \\right)}}{2} - y}{r}$"
      ],
      "text/plain": [
       "Eq(cos(beta), (D*sin(alpha)/2 - y)/r)"
      ]
     },
     "metadata": {},
     "output_type": "display_data"
    },
    {
     "data": {
      "text/latex": [
       "$\\displaystyle \\cos{\\left(\\theta_{B} \\right)} = \\frac{\\left(x \\sin{\\left(\\alpha \\right)} - y \\cos{\\left(\\alpha \\right)}\\right) \\sin{\\left(\\theta \\right)} + \\left(\\frac{D}{2} - x \\cos{\\left(\\alpha \\right)} - y \\sin{\\left(\\alpha \\right)}\\right) \\cos{\\left(\\theta \\right)}}{r}$"
      ],
      "text/plain": [
       "Eq(cos(theta_B), ((x*sin(alpha) - y*cos(alpha))*sin(theta) + (D/2 - x*cos(alpha) - y*sin(alpha))*cos(theta))/r)"
      ]
     },
     "metadata": {},
     "output_type": "display_data"
    }
   ],
   "source": [
    "eq1 = sp.Eq(sp.sin(beta), (x-(D/2)*sp.cos(alpha))/r)\n",
    "display(eq1)\n",
    "eq2 = sp.Eq(sp.cos(beta), ((D/2)*sp.sin(alpha)-y)/r)\n",
    "display(eq2)\n",
    "eq3 = sp.Eq(sp.cos(theta_B), (((D/2)-(x*sp.cos(alpha)+y*sp.sin(alpha)))*sp.cos(theta)+(x*sp.sin(alpha)-y*sp.cos(alpha))*sp.𝑠𝑖𝑛(theta))/r)\n",
    "display(eq3)"
   ]
  },
  {
   "cell_type": "code",
   "execution_count": 48,
   "id": "bf4e4251",
   "metadata": {},
   "outputs": [],
   "source": [
    "sigmarr_soln = sigmarr_soln.subs(sp.cos(theta_B), eq3.rhs)"
   ]
  },
  {
   "cell_type": "code",
   "execution_count": 49,
   "id": "677e771f",
   "metadata": {},
   "outputs": [],
   "source": [
    "Q = sp.Matrix([[sp.cos(theta), sp.sin(theta)],[-sp.sin(theta), sp.cos(theta)]])"
   ]
  },
  {
   "cell_type": "code",
   "execution_count": 50,
   "id": "5d09ac66",
   "metadata": {},
   "outputs": [],
   "source": [
    "sigma_pol = sp.Matrix([[sigmarr_soln,sigmart], [sigmart,sigmatt]])"
   ]
  },
  {
   "cell_type": "code",
   "execution_count": 51,
   "id": "aebb697c",
   "metadata": {},
   "outputs": [
    {
     "data": {
      "text/latex": [
       "$\\displaystyle \\left[\\begin{matrix}- \\frac{2 P \\left(\\left(x \\sin{\\left(\\alpha \\right)} - y \\cos{\\left(\\alpha \\right)}\\right) \\sin{\\left(\\theta \\right)} + \\left(\\frac{D}{2} - x \\cos{\\left(\\alpha \\right)} - y \\sin{\\left(\\alpha \\right)}\\right) \\cos{\\left(\\theta \\right)}\\right)}{\\pi h r^{2}} & 0\\\\0 & 0\\end{matrix}\\right]$"
      ],
      "text/plain": [
       "Matrix([\n",
       "[-2*P*((x*sin(alpha) - y*cos(alpha))*sin(theta) + (D/2 - x*cos(alpha) - y*sin(alpha))*cos(theta))/(pi*h*r**2), 0],\n",
       "[                                                                                                           0, 0]])"
      ]
     },
     "metadata": {},
     "output_type": "display_data"
    }
   ],
   "source": [
    "display(sigma_pol)"
   ]
  },
  {
   "cell_type": "code",
   "execution_count": 52,
   "id": "3618d418",
   "metadata": {},
   "outputs": [],
   "source": [
    "Q = Q.subs(theta,beta)"
   ]
  },
  {
   "cell_type": "code",
   "execution_count": 53,
   "id": "c60e79f5",
   "metadata": {},
   "outputs": [
    {
     "data": {
      "text/latex": [
       "$\\displaystyle \\left[\\begin{matrix}\\cos{\\left(\\beta \\right)} & \\sin{\\left(\\beta \\right)}\\\\- \\sin{\\left(\\beta \\right)} & \\cos{\\left(\\beta \\right)}\\end{matrix}\\right]$"
      ],
      "text/plain": [
       "Matrix([\n",
       "[ cos(beta), sin(beta)],\n",
       "[-sin(beta), cos(beta)]])"
      ]
     },
     "metadata": {},
     "output_type": "display_data"
    }
   ],
   "source": [
    "display(Q)"
   ]
  },
  {
   "cell_type": "code",
   "execution_count": 54,
   "id": "81dac057",
   "metadata": {},
   "outputs": [
    {
     "data": {
      "text/latex": [
       "$\\displaystyle \\left[\\begin{matrix}\\cos{\\left(\\beta \\right)} & - \\sin{\\left(\\beta \\right)}\\\\\\sin{\\left(\\beta \\right)} & \\cos{\\left(\\beta \\right)}\\end{matrix}\\right]$"
      ],
      "text/plain": [
       "Matrix([\n",
       "[cos(beta), -sin(beta)],\n",
       "[sin(beta),  cos(beta)]])"
      ]
     },
     "metadata": {},
     "output_type": "display_data"
    }
   ],
   "source": [
    "display(Q.T)"
   ]
  },
  {
   "cell_type": "markdown",
   "id": "dd5170b7",
   "metadata": {},
   "source": [
    "display(Q.inv(),Q.T.inv())"
   ]
  },
  {
   "cell_type": "markdown",
   "id": "59840a12",
   "metadata": {},
   "source": [
    "From The relation:\\begin{gather}\\bar{\\bar{\\sigma}}_{\\rm pol} = \\bar{\\bar{Q}} \\; \\bar{\\bar{\\sigma}}_{\\rm rect}\\bar{\\bar{Q}}^{\\sf T}\\end{gather}\n",
    "\n",
    "By doing Pre-multiplication and post-multiplication of matrices we evaluted \\begin{gather}\\bar{\\bar{\\sigma}}_{\\rm rect}\\end{gather}"
   ]
  },
  {
   "cell_type": "code",
   "execution_count": 55,
   "id": "e62aceff",
   "metadata": {},
   "outputs": [],
   "source": [
    "sigma_cart = (Q.inv())*(sigma_pol)*(Q.T.inv())"
   ]
  },
  {
   "cell_type": "code",
   "execution_count": 56,
   "id": "3e6f6d32",
   "metadata": {},
   "outputs": [
    {
     "data": {
      "text/latex": [
       "$\\displaystyle \\left[\\begin{matrix}- \\frac{2 P \\left(\\left(x \\sin{\\left(\\alpha \\right)} - y \\cos{\\left(\\alpha \\right)}\\right) \\sin{\\left(\\theta \\right)} + \\left(\\frac{D}{2} - x \\cos{\\left(\\alpha \\right)} - y \\sin{\\left(\\alpha \\right)}\\right) \\cos{\\left(\\theta \\right)}\\right) \\left(- \\frac{\\sin^{2}{\\left(\\beta \\right)}}{\\cos{\\left(\\beta \\right)}} + \\frac{1}{\\cos{\\left(\\beta \\right)}}\\right)^{2}}{\\pi h r^{2}} & - \\frac{2 P \\left(\\left(x \\sin{\\left(\\alpha \\right)} - y \\cos{\\left(\\alpha \\right)}\\right) \\sin{\\left(\\theta \\right)} + \\left(\\frac{D}{2} - x \\cos{\\left(\\alpha \\right)} - y \\sin{\\left(\\alpha \\right)}\\right) \\cos{\\left(\\theta \\right)}\\right) \\left(- \\frac{\\sin^{2}{\\left(\\beta \\right)}}{\\cos{\\left(\\beta \\right)}} + \\frac{1}{\\cos{\\left(\\beta \\right)}}\\right) \\sin{\\left(\\beta \\right)}}{\\pi h r^{2}}\\\\- \\frac{2 P \\left(\\left(x \\sin{\\left(\\alpha \\right)} - y \\cos{\\left(\\alpha \\right)}\\right) \\sin{\\left(\\theta \\right)} + \\left(\\frac{D}{2} - x \\cos{\\left(\\alpha \\right)} - y \\sin{\\left(\\alpha \\right)}\\right) \\cos{\\left(\\theta \\right)}\\right) \\left(- \\frac{\\sin^{2}{\\left(\\beta \\right)}}{\\cos{\\left(\\beta \\right)}} + \\frac{1}{\\cos{\\left(\\beta \\right)}}\\right) \\sin{\\left(\\beta \\right)}}{\\pi h r^{2}} & - \\frac{2 P \\left(\\left(x \\sin{\\left(\\alpha \\right)} - y \\cos{\\left(\\alpha \\right)}\\right) \\sin{\\left(\\theta \\right)} + \\left(\\frac{D}{2} - x \\cos{\\left(\\alpha \\right)} - y \\sin{\\left(\\alpha \\right)}\\right) \\cos{\\left(\\theta \\right)}\\right) \\sin^{2}{\\left(\\beta \\right)}}{\\pi h r^{2}}\\end{matrix}\\right]$"
      ],
      "text/plain": [
       "Matrix([\n",
       "[       -2*P*((x*sin(alpha) - y*cos(alpha))*sin(theta) + (D/2 - x*cos(alpha) - y*sin(alpha))*cos(theta))*(-sin(beta)**2/cos(beta) + 1/cos(beta))**2/(pi*h*r**2), -2*P*((x*sin(alpha) - y*cos(alpha))*sin(theta) + (D/2 - x*cos(alpha) - y*sin(alpha))*cos(theta))*(-sin(beta)**2/cos(beta) + 1/cos(beta))*sin(beta)/(pi*h*r**2)],\n",
       "[-2*P*((x*sin(alpha) - y*cos(alpha))*sin(theta) + (D/2 - x*cos(alpha) - y*sin(alpha))*cos(theta))*(-sin(beta)**2/cos(beta) + 1/cos(beta))*sin(beta)/(pi*h*r**2),                                      -2*P*((x*sin(alpha) - y*cos(alpha))*sin(theta) + (D/2 - x*cos(alpha) - y*sin(alpha))*cos(theta))*sin(beta)**2/(pi*h*r**2)]])"
      ]
     },
     "metadata": {},
     "output_type": "display_data"
    }
   ],
   "source": [
    "display(sigma_cart)"
   ]
  },
  {
   "cell_type": "code",
   "execution_count": 57,
   "id": "d93780ae",
   "metadata": {
    "scrolled": true
   },
   "outputs": [
    {
     "data": {
      "text/latex": [
       "$\\displaystyle \\frac{P \\left(- D \\cos{\\left(\\theta \\right)} + 2 x \\cos{\\left(\\alpha + \\theta \\right)} + 2 y \\sin{\\left(\\alpha + \\theta \\right)}\\right) \\cos^{2}{\\left(\\beta \\right)}}{\\pi h r^{2}}$"
      ],
      "text/plain": [
       "P*(-D*cos(theta) + 2*x*cos(alpha + theta) + 2*y*sin(alpha + theta))*cos(beta)**2/(pi*h*r**2)"
      ]
     },
     "metadata": {},
     "output_type": "display_data"
    },
    {
     "data": {
      "text/latex": [
       "$\\displaystyle \\frac{P \\left(- D \\cos{\\left(\\theta \\right)} + 2 x \\cos{\\left(\\alpha + \\theta \\right)} + 2 y \\sin{\\left(\\alpha + \\theta \\right)}\\right) \\sin^{2}{\\left(\\beta \\right)}}{\\pi h r^{2}}$"
      ],
      "text/plain": [
       "P*(-D*cos(theta) + 2*x*cos(alpha + theta) + 2*y*sin(alpha + theta))*sin(beta)**2/(pi*h*r**2)"
      ]
     },
     "metadata": {},
     "output_type": "display_data"
    },
    {
     "data": {
      "text/latex": [
       "$\\displaystyle - \\frac{2 P \\left(\\left(x \\sin{\\left(\\alpha \\right)} - y \\cos{\\left(\\alpha \\right)}\\right) \\sin{\\left(\\theta \\right)} + \\left(\\frac{D}{2} - x \\cos{\\left(\\alpha \\right)} - y \\sin{\\left(\\alpha \\right)}\\right) \\cos{\\left(\\theta \\right)}\\right) \\left(- \\frac{\\sin^{2}{\\left(\\beta \\right)}}{\\cos{\\left(\\beta \\right)}} + \\frac{1}{\\cos{\\left(\\beta \\right)}}\\right) \\sin{\\left(\\beta \\right)}}{\\pi h r^{2}}$"
      ],
      "text/plain": [
       "-2*P*((x*sin(alpha) - y*cos(alpha))*sin(theta) + (D/2 - x*cos(alpha) - y*sin(alpha))*cos(theta))*(-sin(beta)**2/cos(beta) + 1/cos(beta))*sin(beta)/(pi*h*r**2)"
      ]
     },
     "metadata": {},
     "output_type": "display_data"
    }
   ],
   "source": [
    "sigma_xx = sigma_cart[0,0].simplify()\n",
    "sigma_yy = sigma_cart[1,1].simplify()\n",
    "sigma_xy = sigma_cart[0,1]\n",
    "display(sigma_xx, sigma_yy, sigma_xy)"
   ]
  },
  {
   "cell_type": "code",
   "execution_count": 58,
   "id": "a4b2e141",
   "metadata": {},
   "outputs": [],
   "source": [
    "sigma_xx = sigma_xx.subs(sp.cos(theta_B),eq3.rhs)\n",
    "sigma_yy = sigma_yy.subs(sp.cos(theta_B),eq3.rhs)\n",
    "sigma_xy = sigma_xy.subs(sp.cos(theta_B),eq3.rhs)"
   ]
  },
  {
   "cell_type": "code",
   "execution_count": 59,
   "id": "02540d7f",
   "metadata": {},
   "outputs": [],
   "source": [
    "sigma_xx = sigma_xx.subs(sp.cos(beta),eq2.rhs)\n",
    "sigma_yy = sigma_yy.subs(sp.sin(beta),eq1.rhs)\n",
    "sigma_xy = sigma_xy.subs(sp.cos(beta),eq2.rhs)\n",
    "sigma_xy = sigma_xy.subs(sp.sin(beta),eq1.rhs)"
   ]
  },
  {
   "cell_type": "code",
   "execution_count": 60,
   "id": "8e261d18",
   "metadata": {},
   "outputs": [
    {
     "data": {
      "text/latex": [
       "$\\displaystyle \\sigma_{rr}^{\\rm soln} = - \\frac{2 P \\left(\\left(x \\sin{\\left(\\alpha \\right)} - y \\cos{\\left(\\alpha \\right)}\\right) \\sin{\\left(\\theta \\right)} + \\left(\\frac{D}{2} - x \\cos{\\left(\\alpha \\right)} - y \\sin{\\left(\\alpha \\right)}\\right) \\cos{\\left(\\theta \\right)}\\right)}{\\pi h r^{2}}$"
      ],
      "text/plain": [
       "<IPython.core.display.Math object>"
      ]
     },
     "metadata": {},
     "output_type": "display_data"
    }
   ],
   "source": [
    "display(Math(r'\\sigma_{{rr}}^{{\\rm soln}} = {}'.format(sp.latex(sigmarr_soln))))"
   ]
  },
  {
   "cell_type": "code",
   "execution_count": 61,
   "id": "7ee1bab8",
   "metadata": {
    "scrolled": true
   },
   "outputs": [
    {
     "data": {
      "text/latex": [
       "$\\displaystyle \\sigma_{xx} = \\frac{P \\left(\\frac{D \\sin{\\left(\\alpha \\right)}}{2} - y\\right)^{2} \\left(- D \\cos{\\left(\\theta \\right)} + 2 x \\cos{\\left(\\alpha + \\theta \\right)} + 2 y \\sin{\\left(\\alpha + \\theta \\right)}\\right)}{\\pi h r^{4}}$"
      ],
      "text/plain": [
       "<IPython.core.display.Math object>"
      ]
     },
     "metadata": {},
     "output_type": "display_data"
    },
    {
     "data": {
      "text/latex": [
       "$\\displaystyle \\sigma_{xy} = - \\frac{2 P \\left(- \\frac{D \\cos{\\left(\\alpha \\right)}}{2} + x\\right) \\left(\\frac{r}{\\frac{D \\sin{\\left(\\alpha \\right)}}{2} - y} - \\frac{\\left(- \\frac{D \\cos{\\left(\\alpha \\right)}}{2} + x\\right)^{2}}{r \\left(\\frac{D \\sin{\\left(\\alpha \\right)}}{2} - y\\right)}\\right) \\left(\\left(x \\sin{\\left(\\alpha \\right)} - y \\cos{\\left(\\alpha \\right)}\\right) \\sin{\\left(\\theta \\right)} + \\left(\\frac{D}{2} - x \\cos{\\left(\\alpha \\right)} - y \\sin{\\left(\\alpha \\right)}\\right) \\cos{\\left(\\theta \\right)}\\right)}{\\pi h r^{3}}$"
      ],
      "text/plain": [
       "<IPython.core.display.Math object>"
      ]
     },
     "metadata": {},
     "output_type": "display_data"
    },
    {
     "data": {
      "text/latex": [
       "$\\displaystyle \\sigma_{yy} = \\frac{P \\left(- \\frac{D \\cos{\\left(\\alpha \\right)}}{2} + x\\right)^{2} \\left(- D \\cos{\\left(\\theta \\right)} + 2 x \\cos{\\left(\\alpha + \\theta \\right)} + 2 y \\sin{\\left(\\alpha + \\theta \\right)}\\right)}{\\pi h r^{4}}$"
      ],
      "text/plain": [
       "<IPython.core.display.Math object>"
      ]
     },
     "metadata": {},
     "output_type": "display_data"
    }
   ],
   "source": [
    "display(Math(r'\\sigma_{{xx}} = {}'.format(sp.latex(sigma_xx))))\n",
    "display(Math(r'\\sigma_{{xy}} = {}'.format(sp.latex(sigma_xy))))\n",
    "display(Math(r'\\sigma_{{yy}} = {}'.format(sp.latex(sigma_yy))))"
   ]
  },
  {
   "cell_type": "markdown",
   "id": "51ff0e10",
   "metadata": {},
   "source": [
    "If ‘n’ number of loads are acting on the disk, the \n",
    "uniform radial tension in Eq. (6) will create a simple \n",
    "hydrostatic state of stress inside the disk with σx and σy\n",
    "as $\\sum_{i=m}^{n}$$\\frac{p_i}{\\pi*h*D}$*$\\cos(\\theta)_i$\\\n",
    "The final stress distribution can be \n",
    "obtained by adding these terms to the summation of σx\n",
    "and σy due to each load determined using eqs. above."
   ]
  },
  {
   "cell_type": "markdown",
   "id": "53903661",
   "metadata": {},
   "source": [
    "The closed-form solution for the stresses acting on a disk subjected to loads of arbitrary magnitudes and directions is given as;"
   ]
  },
  {
   "cell_type": "markdown",
   "id": "f020bd89",
   "metadata": {},
   "source": [
    "$\\sigma_x=\\sum_{i=1}^n\\left(\\frac{-2 P_i}{\\pi h} \\frac{\\left\\{\\left[R-\\left(x \\cos \\alpha_i+y \\sin \\alpha_i\\right)\\right] \\cos \\theta_i+\\left(x \\sin \\alpha_i-y \\cos \\alpha_i\\right) \\sin \\theta_i\\right\\}\\left(x-R \\cos \\alpha_i\\right)^2}{\\left(\\left(x-R \\cos \\alpha_i\\right)^2+\\left(y-R \\sin \\alpha_i\\right)^2\\right)^2}+\\frac{P_i}{\\pi h D} \\cos \\theta_i\\right)$"
   ]
  },
  {
   "cell_type": "markdown",
   "id": "8a6e5e47",
   "metadata": {},
   "source": [
    "$\\sigma_y=\\sum_{i=1}^n\\left(\\frac{-2 P_i}{\\pi h} \\frac{\\left\\{\\left[R-\\left(x \\cos \\alpha_i+y \\sin \\alpha_i\\right)\\right] \\cos \\theta_i+\\left(x \\sin \\alpha_i-y \\cos \\alpha_i\\right) \\sin \\theta_i\\right\\}\\left(R \\sin \\alpha_i-y\\right)^2}{\\left(\\left(x-R \\cos \\alpha_i\\right)^2+\\left(y-R \\sin \\alpha_i\\right)^2\\right)^2}+\\frac{P_i}{\\pi h D} \\cos \\theta_i\\right)$"
   ]
  },
  {
   "cell_type": "markdown",
   "id": "c0328beb",
   "metadata": {},
   "source": [
    "$\\tau_{x y}=\\sum_{i=1}^n\\left(\\frac{2 P_i}{\\pi h} \\frac{\\left\\{\\left[R-\\left(x \\cos \\alpha_i+y \\sin \\alpha_i\\right)\\right] \\cos \\theta_i+\\left(x \\sin \\alpha_i-y \\cos \\alpha_i\\right) \\sin \\theta_i\\right\\}\\left(x-R \\cos \\alpha_i\\right)\\left(R \\sin \\alpha_i-y\\right)}{\\left(\\left(x-R \\cos \\alpha_i\\right)^2+\\left(y-R \\sin \\alpha_i\\right)^2\\right)^2}\\right)$"
   ]
  },
  {
   "cell_type": "code",
   "execution_count": 62,
   "id": "5f213a06",
   "metadata": {},
   "outputs": [],
   "source": [
    "x1 = (D/2)*sp.cos(alpha)\n",
    "y1 = (D/2)*sp.sin(alpha)"
   ]
  },
  {
   "cell_type": "code",
   "execution_count": 63,
   "id": "1eb865d3",
   "metadata": {},
   "outputs": [],
   "source": [
    "#r = sp.sqrt((x-x1)**2 + (y-y1)**2)"
   ]
  },
  {
   "cell_type": "code",
   "execution_count": 64,
   "id": "06ac9f8f",
   "metadata": {},
   "outputs": [
    {
     "data": {
      "text/latex": [
       "$\\displaystyle r = \\sqrt{\\left(- \\frac{D \\sin{\\left(\\alpha \\right)}}{2} + y\\right)^{2} + \\left(- \\frac{D \\cos{\\left(\\alpha \\right)}}{2} + x\\right)^{2}}$"
      ],
      "text/plain": [
       "Eq(r, sqrt((-D*sin(alpha)/2 + y)**2 + (-D*cos(alpha)/2 + x)**2))"
      ]
     },
     "metadata": {},
     "output_type": "display_data"
    }
   ],
   "source": [
    "Eq4 = sp.Eq(r, sp.sqrt((x-x1)**2 + (y-y1)**2))\n",
    "display(Eq4)"
   ]
  },
  {
   "cell_type": "code",
   "execution_count": 65,
   "id": "30f698c4",
   "metadata": {},
   "outputs": [],
   "source": [
    "sigmaxx_cl = sigma_xx.subs(r,Eq4.rhs) + P*sp.cos(theta)/(sp.pi*D*h)\n",
    "sigmayy_cl = sigma_yy.subs(r,Eq4.rhs) + P*sp.cos(theta)/(sp.pi*D*h)\n",
    "sigmaxy_cl = sigma_xy.subs(r,Eq4.rhs)"
   ]
  },
  {
   "cell_type": "code",
   "execution_count": 66,
   "id": "f574dc22",
   "metadata": {},
   "outputs": [
    {
     "data": {
      "text/latex": [
       "$\\displaystyle \\frac{P \\left(\\frac{D \\sin{\\left(\\alpha \\right)}}{2} - y\\right)^{2} \\left(- D \\cos{\\left(\\theta \\right)} + 2 x \\cos{\\left(\\alpha + \\theta \\right)} + 2 y \\sin{\\left(\\alpha + \\theta \\right)}\\right)}{\\pi h \\left(\\left(- \\frac{D \\sin{\\left(\\alpha \\right)}}{2} + y\\right)^{2} + \\left(- \\frac{D \\cos{\\left(\\alpha \\right)}}{2} + x\\right)^{2}\\right)^{2}} + \\frac{P \\cos{\\left(\\theta \\right)}}{\\pi D h}$"
      ],
      "text/plain": [
       "P*(D*sin(alpha)/2 - y)**2*(-D*cos(theta) + 2*x*cos(alpha + theta) + 2*y*sin(alpha + theta))/(pi*h*((-D*sin(alpha)/2 + y)**2 + (-D*cos(alpha)/2 + x)**2)**2) + P*cos(theta)/(pi*D*h)"
      ]
     },
     "metadata": {},
     "output_type": "display_data"
    },
    {
     "data": {
      "text/latex": [
       "$\\displaystyle \\frac{P \\left(- \\frac{D \\cos{\\left(\\alpha \\right)}}{2} + x\\right)^{2} \\left(- D \\cos{\\left(\\theta \\right)} + 2 x \\cos{\\left(\\alpha + \\theta \\right)} + 2 y \\sin{\\left(\\alpha + \\theta \\right)}\\right)}{\\pi h \\left(\\left(- \\frac{D \\sin{\\left(\\alpha \\right)}}{2} + y\\right)^{2} + \\left(- \\frac{D \\cos{\\left(\\alpha \\right)}}{2} + x\\right)^{2}\\right)^{2}} + \\frac{P \\cos{\\left(\\theta \\right)}}{\\pi D h}$"
      ],
      "text/plain": [
       "P*(-D*cos(alpha)/2 + x)**2*(-D*cos(theta) + 2*x*cos(alpha + theta) + 2*y*sin(alpha + theta))/(pi*h*((-D*sin(alpha)/2 + y)**2 + (-D*cos(alpha)/2 + x)**2)**2) + P*cos(theta)/(pi*D*h)"
      ]
     },
     "metadata": {},
     "output_type": "display_data"
    },
    {
     "data": {
      "text/latex": [
       "$\\displaystyle - \\frac{2 P \\left(- \\frac{D \\cos{\\left(\\alpha \\right)}}{2} + x\\right) \\left(\\left(x \\sin{\\left(\\alpha \\right)} - y \\cos{\\left(\\alpha \\right)}\\right) \\sin{\\left(\\theta \\right)} + \\left(\\frac{D}{2} - x \\cos{\\left(\\alpha \\right)} - y \\sin{\\left(\\alpha \\right)}\\right) \\cos{\\left(\\theta \\right)}\\right) \\left(- \\frac{\\left(- \\frac{D \\cos{\\left(\\alpha \\right)}}{2} + x\\right)^{2}}{\\left(\\frac{D \\sin{\\left(\\alpha \\right)}}{2} - y\\right) \\sqrt{\\left(- \\frac{D \\sin{\\left(\\alpha \\right)}}{2} + y\\right)^{2} + \\left(- \\frac{D \\cos{\\left(\\alpha \\right)}}{2} + x\\right)^{2}}} + \\frac{\\sqrt{\\left(- \\frac{D \\sin{\\left(\\alpha \\right)}}{2} + y\\right)^{2} + \\left(- \\frac{D \\cos{\\left(\\alpha \\right)}}{2} + x\\right)^{2}}}{\\frac{D \\sin{\\left(\\alpha \\right)}}{2} - y}\\right)}{\\pi h \\left(\\left(- \\frac{D \\sin{\\left(\\alpha \\right)}}{2} + y\\right)^{2} + \\left(- \\frac{D \\cos{\\left(\\alpha \\right)}}{2} + x\\right)^{2}\\right)^{\\frac{3}{2}}}$"
      ],
      "text/plain": [
       "-2*P*(-D*cos(alpha)/2 + x)*((x*sin(alpha) - y*cos(alpha))*sin(theta) + (D/2 - x*cos(alpha) - y*sin(alpha))*cos(theta))*(-(-D*cos(alpha)/2 + x)**2/((D*sin(alpha)/2 - y)*sqrt((-D*sin(alpha)/2 + y)**2 + (-D*cos(alpha)/2 + x)**2)) + sqrt((-D*sin(alpha)/2 + y)**2 + (-D*cos(alpha)/2 + x)**2)/(D*sin(alpha)/2 - y))/(pi*h*((-D*sin(alpha)/2 + y)**2 + (-D*cos(alpha)/2 + x)**2)**(3/2))"
      ]
     },
     "metadata": {},
     "output_type": "display_data"
    }
   ],
   "source": [
    "display(sigmaxx_cl, sigmayy_cl, sigmaxy_cl)"
   ]
  },
  {
   "cell_type": "markdown",
   "id": "547dd5f8",
   "metadata": {},
   "source": [
    "..............................................................................................................................."
   ]
  },
  {
   "cell_type": "markdown",
   "id": "9cc8145e",
   "metadata": {},
   "source": [
    "#### RESULTS AND CONCLUSION"
   ]
  },
  {
   "cell_type": "markdown",
   "id": "7376bc40",
   "metadata": {},
   "source": [
    "In this study, the generic equations that are readily usable to find the stress field inside a disk subjected to self-equilibrated loads of arbitrary magnitudes and directions are \n",
    "derived. The force solvers can now use the heuristic information on whether the forces acting in a particular granule are radial or non-radial."
   ]
  },
  {
   "cell_type": "markdown",
   "id": "d092e13a",
   "metadata": {},
   "source": [
    "#### REFERENCES:\n",
    "- Ramesh, K., & Shins, K. (2022). Stress field equations for a disk subjected to self-equilibrated arbitrary loads: revisited. Granular Matter, 24(2), 49.\n",
    "\n",
    "- Timoshenko, S., Goodier, J.N.: Theory of elasticity. McGraw Hill Education (1951).\n",
    "- Majmudar, T.S.: Experimental studies of two-dimensional granu\u0002lar systems using grain-scale contact force measurements. Graduate School of Duke University (2006)"
   ]
  },
  {
   "cell_type": "markdown",
   "id": "cfed4fca",
   "metadata": {},
   "source": [
    "#### PROJECT RESPONSIBILITIES:\n",
    "\n",
    "- Formulation of given problem and determining workflow:    Navin Pranjal, Mukesh Kumar\n",
    "- Coding part of given problem using Jupyter Notebook:      Rajdeep Chatterjee, Navin Pranjal\n",
    "- Literature review collection of related papers:   Ankit Sharma, Mukesh Kumar"
   ]
  }
 ],
 "metadata": {
  "kernelspec": {
   "display_name": "Python 3 (ipykernel)",
   "language": "python",
   "name": "python3"
  },
  "language_info": {
   "codemirror_mode": {
    "name": "ipython",
    "version": 3
   },
   "file_extension": ".py",
   "mimetype": "text/x-python",
   "name": "python",
   "nbconvert_exporter": "python",
   "pygments_lexer": "ipython3",
   "version": "3.10.9"
  }
 },
 "nbformat": 4,
 "nbformat_minor": 5
}
